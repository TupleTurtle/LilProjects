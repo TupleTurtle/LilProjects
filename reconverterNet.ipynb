{
 "cells": [
  {
   "cell_type": "code",
   "execution_count": 303,
   "metadata": {},
   "outputs": [],
   "source": [
    "import numpy as np\n",
    "import pandas as pd\n",
    "import matplotlib.pyplot as plt\n",
    "import scipy.misc as sp\n",
    "from PIL import Image, ImageEnhance, ImageOps\n",
    "%matplotlib inline"
   ]
  },
  {
   "cell_type": "code",
   "execution_count": 304,
   "metadata": {},
   "outputs": [],
   "source": [
    "class neuralNetwork:\n",
    "    def __init__(self, inputSize, hiddenSize, outputSize, learningRate, weightsIH=False, weightsHO=False):\n",
    "        self.inpSize = inputSize\n",
    "        self.outSize = outputSize\n",
    "        self.hidSize = hiddenSize\n",
    "        self.lr = learningRate\n",
    "\n",
    "        if not weightsIH:\n",
    "            self.weightsIH = np.random.normal(0.0, pow(self.inpSize, -0.5), (self.hidSize, self.inpSize))\n",
    "        else:\n",
    "            self.weightsIH = weightsIH\n",
    "\n",
    "        if not weightsHO:\n",
    "            self.weightsHO = np.random.normal(0.0, pow(self.hidSize, -0.5), (self.outSize, self.hidSize))\n",
    "        else:\n",
    "            self.weightsHO = weightsHO\n",
    "\n",
    "    def train(self, x, y):\n",
    "        x = np.array(x, ndmin=2).T\n",
    "        y = np.array(y, ndmin=2).T\n",
    "        \n",
    "        hiddenOut = self.activation(self.weightsIH @ x)\n",
    "\n",
    "        Output = self.activation(self.weightsHO @ hiddenOut)\n",
    "\n",
    "        errors = y - Output\n",
    "\n",
    "        self.weightsHO = self.weightsHO + self.lr * ((errors * Output * (1 - Output)) @ hiddenOut.T)\n",
    "\n",
    "        hErrors = self.weightsHO.T @ errors\n",
    "\n",
    "        self.weightsIH = self.weightsIH + self.lr * ((hErrors * hiddenOut * (1 - hiddenOut)) @ x.T)\n",
    "\n",
    "\n",
    "\n",
    "    def predict(self, x):\n",
    "        x = np.array(x, ndmin=2).T\n",
    "        return self.activation(self.weightsHO @ self.activation(self.weightsIH @ x))  \n",
    "\n",
    "    def activation(self, z):\n",
    "        return 1/(1+2.718282**-z)\n",
    "    \n",
    "    def invActivation(self, z):\n",
    "        return np.log(z/(1-z))\n",
    "    \n",
    "    def backquery(self, y):\n",
    "        y = np.array(y, ndmin=2).T\n",
    "\n",
    "        outSums = self.invActivation(y)\n",
    "        hidOut = self.weightsHO.T @ outSums\n",
    "        hidOut -= np.min(hidOut)\n",
    "        hidOut /= np.max(hidOut)\n",
    "        hidOut *= 0.98\n",
    "        hidOut += 0.01\n",
    "\n",
    "        hiddenSums = self.invActivation(hidOut)\n",
    "        inp = self.weightsIH.T @ hiddenSums\n",
    "        inp -= np.min(inp)\n",
    "        inp /= np.max(inp)\n",
    "        inp *= 0.98\n",
    "        inp += 0.01\n",
    "\n",
    "        return inp\n"
   ]
  },
  {
   "cell_type": "code",
   "execution_count": 305,
   "metadata": {},
   "outputs": [],
   "source": [
    "def convert(file):\n",
    "    out = []\n",
    "    for el in file:\n",
    "        el = el.replace('[','').replace(']','')\n",
    "        out.append(np.fromstring(el, float, sep=',  '))\n",
    "    return out\n"
   ]
  },
  {
   "cell_type": "code",
   "execution_count": 306,
   "metadata": {},
   "outputs": [],
   "source": [
    "text = open(\"mnistBrains.txt\", 'r').read().replace('\\n','').replace('       ','').replace(')','').replace('(','')\n",
    "text = text.split('end')\n",
    "w0 = text[0].split('array')\n",
    "w1 = text[1].split('array')\n",
    "w0.pop(0)\n",
    "w1.pop(0)\n",
    "w0 = convert(w0)\n",
    "w1 = convert(w1)"
   ]
  },
  {
   "cell_type": "code",
   "execution_count": 307,
   "metadata": {},
   "outputs": [],
   "source": [
    "brain = neuralNetwork(len(w0[0]), len(w0), len(w1), 0.1, w0, w1)"
   ]
  },
  {
   "cell_type": "code",
   "execution_count": 308,
   "metadata": {},
   "outputs": [],
   "source": [
    "image = Image.open('images/four.png').convert('L')"
   ]
  },
  {
   "cell_type": "code",
   "execution_count": 309,
   "metadata": {},
   "outputs": [],
   "source": [
    "image = ImageOps.invert(image)\n",
    "enhancer = ImageEnhance.Contrast(image)\n",
    "image = enhancer.enhance(7)"
   ]
  },
  {
   "cell_type": "code",
   "execution_count": 297,
   "metadata": {},
   "outputs": [
    {
     "data": {
      "text/plain": [
       "<matplotlib.image.AxesImage at 0x7fbaa537fb80>"
      ]
     },
     "execution_count": 297,
     "metadata": {},
     "output_type": "execute_result"
    },
    {
     "data": {
      "image/png": "[encoded data removed]",
      "text/plain": [
       "<Figure size 432x288 with 1 Axes>"
      ]
     },
     "metadata": {
      "needs_background": "light"
     },
     "output_type": "display_data"
    }
   ],
   "source": [
    "plt.imshow(image)"
   ]
  },
  {
   "cell_type": "code",
   "execution_count": 310,
   "metadata": {},
   "outputs": [],
   "source": [
    "image = np.asarray(image).flatten()/255 * 0.99 + 0.00001"
   ]
  },
  {
   "cell_type": "code",
   "execution_count": 311,
   "metadata": {},
   "outputs": [
    {
     "data": {
      "text/plain": [
       "4"
      ]
     },
     "execution_count": 311,
     "metadata": {},
     "output_type": "execute_result"
    }
   ],
   "source": [
    "np.argmax(brain.predict(image))"
   ]
  }
 ],
 "metadata": {
  "kernelspec": {
   "display_name": "Python 3",
   "language": "python",
   "name": "python3"
  },
  "language_info": {
   "codemirror_mode": {
    "name": "ipython",
    "version": 3
   },
   "file_extension": ".py",
   "mimetype": "text/x-python",
   "name": "python",
   "nbconvert_exporter": "python",
   "pygments_lexer": "ipython3",
   "version": "3.10.7"
  },
  "orig_nbformat": 4
 },
 "nbformat": 4,
 "nbformat_minor": 2
}
