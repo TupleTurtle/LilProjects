{
 "cells": [
  {
   "cell_type": "code",
   "execution_count": 121,
   "metadata": {},
   "outputs": [],
   "source": [
    "from array import array\n",
    "from random import random\n",
    "import numpy as np\n",
    "from time import perf_counter as pc\n",
    "from collections import deque"
   ]
  },
  {
   "cell_type": "code",
   "execution_count": 5,
   "metadata": {},
   "outputs": [],
   "source": [
    "invoice = \"\"\"1909 Pimoroni PiBrella       $17.50 3 $52.50\n",
    "1489 6mm Tactile Switch x20  $4.95  2 $9.90\n",
    "1510 Panavise Jr. - PV-201   $28.00 1 $28.00\n",
    "1601 PiTFT Mini Kit 320x240  $34.95 1 $34.95\"\"\""
   ]
  },
  {
   "cell_type": "code",
   "execution_count": 17,
   "metadata": {},
   "outputs": [],
   "source": [
    "code = slice(0, 4)\n",
    "descr = slice(5, 29)\n",
    "price = slice(28, 35)\n",
    "amount = slice(38)\n",
    "totalPrice = slice(38, None)"
   ]
  },
  {
   "cell_type": "code",
   "execution_count": null,
   "metadata": {},
   "outputs": [],
   "source": [
    "items = invoice.split('\\n')\n",
    "for item in items:\n",
    "    print(item[descr], item[price])"
   ]
  },
  {
   "cell_type": "code",
   "execution_count": 32,
   "metadata": {},
   "outputs": [
    {
     "data": {
      "text/plain": [
       "[10, 11, 12, 13, 14, 17, 18, 19]"
      ]
     },
     "execution_count": 32,
     "metadata": {},
     "output_type": "execute_result"
    }
   ],
   "source": [
    "l = list(range(10,20))\n",
    "del l[5:7]\n",
    "l = l[3::-1]"
   ]
  },
  {
   "cell_type": "code",
   "execution_count": 33,
   "metadata": {},
   "outputs": [
    {
     "data": {
      "text/plain": [
       "[1, 2, 100, 5, 6]"
      ]
     },
     "execution_count": 33,
     "metadata": {},
     "output_type": "execute_result"
    }
   ],
   "source": [
    "l2 = [1,2,3,4,5,6]\n",
    "l2[2:4] = [100]\n",
    "l2"
   ]
  },
  {
   "cell_type": "code",
   "execution_count": 37,
   "metadata": {},
   "outputs": [
    {
     "data": {
      "text/plain": [
       "[['X', '_', '_'], ['_', '_', '_'], ['_', '_', '_']]"
      ]
     },
     "execution_count": 37,
     "metadata": {},
     "output_type": "execute_result"
    }
   ],
   "source": [
    "board = [['_']*3 for _ in range(3)]\n",
    "board[0][0] = 'X'\n",
    "board"
   ]
  },
  {
   "cell_type": "code",
   "execution_count": null,
   "metadata": {},
   "outputs": [],
   "source": [
    "t = (1,2, [30, 40])\n",
    "t[2].extend([50, 10])\n",
    "t"
   ]
  },
  {
   "cell_type": "code",
   "execution_count": 48,
   "metadata": {},
   "outputs": [
    {
     "data": {
      "text/plain": [
       "(0.283688556883674, 0.283688556883674)"
      ]
     },
     "execution_count": 48,
     "metadata": {},
     "output_type": "execute_result"
    }
   ],
   "source": [
    "floats = array('d', (random() for i in range(10**7)))\n",
    "floats[-1]\n",
    "fp = open('floats.bin', 'wb')\n",
    "floats.tofile(fp)\n",
    "fp.close()\n",
    "fp = open('floats.bin', 'rb')\n",
    "floats2 = array('d')\n",
    "floats2.fromfile(fp, 10**7)\n",
    "fp.close()\n",
    "floats[-1], floats2[-1]"
   ]
  },
  {
   "cell_type": "code",
   "execution_count": null,
   "metadata": {},
   "outputs": [],
   "source": [
    "octets = array('B', range(6))\n",
    "m1 = memoryview(octets)\n",
    "m1.tolist()\n",
    "m2 = m1.cast('B', [2,3])\n",
    "m2.tolist()\n",
    "m3 = m1.cast('B', [6,1])\n",
    "m3.tolist()\n",
    "m2[1, 1] = 12\n",
    "m3[0, 0] = 42\n",
    "octets"
   ]
  },
  {
   "cell_type": "code",
   "execution_count": null,
   "metadata": {},
   "outputs": [],
   "source": [
    "nums = array('h', [-2,-1,0,1,2])\n",
    "memv = memoryview(nums)\n",
    "memv_oct = memv.cast('B')\n",
    "memv_oct.tolist()\n",
    "memv_oct[1] = 6\n",
    "memv.tolist()"
   ]
  },
  {
   "cell_type": "code",
   "execution_count": null,
   "metadata": {},
   "outputs": [],
   "source": [
    "a = np.arange(20)\n",
    "a.shape = 5, 4\n",
    "print(a)\n",
    "a[:, 2:4].T\n",
    "floats = np.fromfile('floats.bin')\n",
    "floats *= 100\n",
    "floats[1]\n",
    "t0 = pc(); floats /=1235312612631263; pc() - t0\n",
    "np.save('floats-10M', floats)\n",
    "floats2 = np.load('floats-10M.npy', 'r+')\n",
    "floats2 *= 111241242222222\n",
    "floats2[0]"
   ]
  },
  {
   "cell_type": "code",
   "execution_count": 126,
   "metadata": {},
   "outputs": [
    {
     "data": {
      "text/plain": [
       "deque([40, 30, 20, 10, 0, 1, 2, 3, 4, 5])"
      ]
     },
     "execution_count": 126,
     "metadata": {},
     "output_type": "execute_result"
    }
   ],
   "source": [
    "dq = deque(range(10), maxlen=10)\n",
    "dq.rotate(3)\n",
    "dq.appendleft(-1)\n",
    "dq.rotate(-4)\n",
    "dq.extendleft([10,20,30,40])\n",
    "dq"
   ]
  }
 ],
 "metadata": {
  "kernelspec": {
   "display_name": "Python 3",
   "language": "python",
   "name": "python3"
  },
  "language_info": {
   "codemirror_mode": {
    "name": "ipython",
    "version": 3
   },
   "file_extension": ".py",
   "mimetype": "text/x-python",
   "name": "python",
   "nbconvert_exporter": "python",
   "pygments_lexer": "ipython3",
   "version": "3.10.7"
  },
  "orig_nbformat": 4
 },
 "nbformat": 4,
 "nbformat_minor": 2
}
