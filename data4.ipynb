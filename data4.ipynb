{
 "cells": [
  {
   "cell_type": "code",
   "execution_count": 1,
   "metadata": {},
   "outputs": [],
   "source": [
    "def vAdd(x,y):\n",
    "    assert len(x) == len(y), 'Error, different size'\n",
    "    return [x+y for x,y in zip(x,y)]\n",
    "\n",
    "def vMultScal(x, k):\n",
    "    return [el*k for el in x]\n",
    "\n",
    "def vSum(*args):\n",
    "    assert args\n",
    "    leng = len(args[0])\n",
    "    assert all([leng == len(arg) for arg in args])\n",
    "    return [sum(vector[i]for vector in args) for i in range(leng)]\n",
    "\n",
    "def dot(x, y):\n",
    "    leng = len(x)\n",
    "    assert leng == len(y)\n",
    "    return sum([x * y for x,y in zip(x,y)])\n",
    "\n",
    "def euclid(x, y):\n",
    "    return sum((x-y)**2 for x,y in zip(x,y))**(1/2)"
   ]
  },
  {
   "cell_type": "code",
   "execution_count": 18,
   "metadata": {},
   "outputs": [
    {
     "data": {
      "text/plain": [
       "0.0"
      ]
     },
     "execution_count": 18,
     "metadata": {},
     "output_type": "execute_result"
    }
   ],
   "source": [
    "v1 = [0,1,2]\n",
    "v2 = [3,0,1]\n",
    "v3 = [1,1,1,1]\n",
    "vAdd(v1,v2)\n",
    "# vectorAdd(v1,v3)\n",
    "vSum(v1,v2)\n",
    "dot(v1,v2)\n",
    "euclid(v1,[0,1,2])"
   ]
  },
  {
   "cell_type": "code",
   "execution_count": 27,
   "metadata": {},
   "outputs": [],
   "source": [
    "class matrix:\n",
    "    def __init__(self, matr):\n",
    "        leng = len(matr[0])\n",
    "        assert [leng == len(arg) for arg in matr]\n",
    "        self.matr = matr\n",
    "\n",
    "    def __mul__(self, m2):\n",
    "        [dot(self.matr[i], [[j] for el in m2]) for i in range(len(self.matr())) for j in range(len(m2.matr()[0]))]"
   ]
  },
  {
   "cell_type": "code",
   "execution_count": null,
   "metadata": {},
   "outputs": [],
   "source": [
    "matrix([[0,1,2]])*matrix([[1],[2],[3]])"
   ]
  },
  {
   "cell_type": "code",
   "execution_count": 4,
   "metadata": {},
   "outputs": [],
   "source": [
    "def shape(A):\n",
    "    num_rows = len(A)\n",
    "    num_columns = len(A[0]) if A else 0\n",
    "    return num_rows, num_columns"
   ]
  },
  {
   "cell_type": "code",
   "execution_count": null,
   "metadata": {},
   "outputs": [],
   "source": [
    "matr = [[1,2,3],\n",
    "        [1,2,3],"
   ]
  }
 ],
 "metadata": {
  "kernelspec": {
   "display_name": "Python 3",
   "language": "python",
   "name": "python3"
  },
  "language_info": {
   "codemirror_mode": {
    "name": "ipython",
    "version": 3
   },
   "file_extension": ".py",
   "mimetype": "text/x-python",
   "name": "python",
   "nbconvert_exporter": "python",
   "pygments_lexer": "ipython3",
   "version": "3.10.7"
  },
  "orig_nbformat": 4
 },
 "nbformat": 4,
 "nbformat_minor": 2
}
