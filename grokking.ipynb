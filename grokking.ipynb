{
 "cells": [
  {
   "cell_type": "code",
   "execution_count": 4,
   "metadata": {},
   "outputs": [],
   "source": [
    "def fastSort(arr):\n",
    "    if len(arr) < 2:\n",
    "        return arr\n",
    "    el = arr[0]\n",
    "    less = [i for i in arr if i < el]\n",
    "    more = [j for j in arr if j > el]\n",
    "    return fastSort(less)+[el]+fastSort(more)"
   ]
  },
  {
   "cell_type": "code",
   "execution_count": null,
   "metadata": {},
   "outputs": [],
   "source": [
    "fastSort([9999, 23424, 451515, 1, 1, 2, 32])"
   ]
  },
  {
   "cell_type": "code",
   "execution_count": 20,
   "metadata": {},
   "outputs": [],
   "source": [
    "voted = {}\n",
    "def checkVoted(person):\n",
    "    if voted.get(person):\n",
    "        print('already voted')\n",
    "    else:\n",
    "        voted[person] = True\n",
    "        print('vote counted')"
   ]
  },
  {
   "cell_type": "code",
   "execution_count": 22,
   "metadata": {},
   "outputs": [
    {
     "name": "stdout",
     "output_type": "stream",
     "text": [
      "already voted\n",
      "{'dd': True}\n"
     ]
    }
   ],
   "source": [
    "checkVoted('dd')\n",
    "print(voted)"
   ]
  },
  {
   "cell_type": "code",
   "execution_count": 19,
   "metadata": {},
   "outputs": [],
   "source": [
    "def lowestCost(costs, processed):\n",
    "    minCost = float('inf')\n",
    "    lowestCostNode = None\n",
    "    for i in costs:\n",
    "        cost = costs[i]\n",
    "        if cost < minCost and i not in processed:\n",
    "            minCost = cost\n",
    "            lowestCostNode = i\n",
    "    return lowestCostNode"
   ]
  },
  {
   "cell_type": "code",
   "execution_count": 20,
   "metadata": {},
   "outputs": [],
   "source": [
    "def findMinimalPath(nodes, parents, costs, processed):\n",
    "    node = lowestCost(costs, processed)\n",
    "    while node is not None:\n",
    "        neighbours = nodes[node]\n",
    "        cost = costs[node]\n",
    "        for n in neighbours.keys():\n",
    "            newCost = cost + neighbours[n]\n",
    "            if costs[n] > newCost:\n",
    "                costs[n] = newCost\n",
    "                parents[n] = node\n",
    "        processed.append(node)\n",
    "        node = lowestCost(costs, processed)\n",
    "\n",
    "    return costs['end']"
   ]
  },
  {
   "cell_type": "code",
   "execution_count": null,
   "metadata": {},
   "outputs": [],
   "source": [
    "nodes = {}\n",
    "nodes['start'] = {}\n",
    "nodes['start']['a'] = 12\n",
    "nodes['start']['b'] = 1\n",
    "nodes['a'] = {}\n",
    "nodes['a']['end'] = 1\n",
    "nodes['b'] = {}\n",
    "nodes['b']['a'] = 3\n",
    "nodes['b']['end'] = 5\n",
    "nodes['end'] = {}\n",
    "inf = float('inf')\n",
    "costs = {}\n",
    "costs['a'] = 12\n",
    "costs['b'] = 1\n",
    "costs['end'] = inf\n",
    "parents = {}\n",
    "parents['a'] = 'start'\n",
    "parents['b'] = 'start'\n",
    "parents['end'] = None\n",
    "proccessed = []\n",
    "\n",
    "findMinimalPath(nodes, parents, costs, [])"
   ]
  },
  {
   "cell_type": "code",
   "execution_count": 8,
   "metadata": {},
   "outputs": [],
   "source": [
    "class node:\n",
    "    def __init__(self, data):\n",
    "        self.data = data\n",
    "        self.next = None\n",
    "\n",
    "class queue:\n",
    "\n",
    "    def __init__(self):\n",
    "        self.head = self.tail = None\n",
    "\n",
    "    def enque(self, item):\n",
    "        el = node(item)\n",
    "        if self.tail == None:\n",
    "            self.head = self.tail = el\n",
    "            return\n",
    "        self.tail.next = el\n",
    "        self.tail = el\n",
    "\n",
    "    def deque(self):\n",
    "        el = self.head.data\n",
    "        self.head = self.head.next\n",
    "        return el\n",
    "    "
   ]
  },
  {
   "cell_type": "code",
   "execution_count": 14,
   "metadata": {},
   "outputs": [
    {
     "data": {
      "text/plain": [
       "154"
      ]
     },
     "execution_count": 14,
     "metadata": {},
     "output_type": "execute_result"
    }
   ],
   "source": [
    "que = queue()\n",
    "que.enque(10)\n",
    "que.enque(12)\n",
    "que.enque(154)\n",
    "que.deque()\n",
    "que.deque()\n",
    "que.deque()\n"
   ]
  },
  {
   "cell_type": "code",
   "execution_count": null,
   "metadata": {},
   "outputs": [],
   "source": [
    "\"\"\"graph = {}\n",
    "graph['you'] = ['alice','peggy','john']\n",
    "graph['alice'] = ['popo']\n",
    "while search_queue:\n",
    "    person = search_queue.popleft()\n",
    "    if person_is_seller(person):\n",
    "        print preson + 'is a mango seller!'\"\"\""
   ]
  }
 ],
 "metadata": {
  "kernelspec": {
   "display_name": "Python 3",
   "language": "python",
   "name": "python3"
  },
  "language_info": {
   "codemirror_mode": {
    "name": "ipython",
    "version": 3
   },
   "file_extension": ".py",
   "mimetype": "text/x-python",
   "name": "python",
   "nbconvert_exporter": "python",
   "pygments_lexer": "ipython3",
   "version": "3.10.7"
  },
  "orig_nbformat": 4
 },
 "nbformat": 4,
 "nbformat_minor": 2
}
