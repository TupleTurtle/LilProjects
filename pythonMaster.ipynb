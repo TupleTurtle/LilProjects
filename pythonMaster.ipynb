{
 "cells": [
  {
   "cell_type": "code",
   "execution_count": 11,
   "metadata": {},
   "outputs": [],
   "source": [
    "import collections\n",
    "from random import choice\n",
    "import os"
   ]
  },
  {
   "cell_type": "code",
   "execution_count": 57,
   "metadata": {},
   "outputs": [],
   "source": [
    "card = collections.namedtuple('Card', ['rank', 'suit'])\n",
    "class FrenchDeck:\n",
    "    ranks = [str(n) for n in range(2,11 )] + list('JQKA')\n",
    "    suits = 'spades diamonds clubs hearts'.split()\n",
    "    \n",
    "    def __init__(self): \n",
    "        self._cards = [card(rank, suit) for suit in self.suits\n",
    "                       for rank in self.ranks]\n",
    "    def __len__(self):\n",
    "        return len(self._cards)\n",
    "    \n",
    "    def __getitem__(self, position):\n",
    "        return self._cards[position]"
   ]
  },
  {
   "cell_type": "code",
   "execution_count": null,
   "metadata": {},
   "outputs": [],
   "source": [
    "deck = FrenchDeck()\n",
    "len(deck)\n",
    "deck[51]\n",
    "choice(deck)\n",
    "deck[1::13]\n",
    "for cardd in reversed(deck):\n",
    "    print(cardd)"
   ]
  },
  {
   "cell_type": "code",
   "execution_count": 59,
   "metadata": {},
   "outputs": [
    {
     "data": {
      "text/plain": [
       "True"
      ]
     },
     "execution_count": 59,
     "metadata": {},
     "output_type": "execute_result"
    }
   ],
   "source": [
    "card('3', 'spades') in deck"
   ]
  },
  {
   "cell_type": "code",
   "execution_count": 61,
   "metadata": {},
   "outputs": [],
   "source": [
    "suit_values = dict(spades=3, hearts=2, diamonds=1, clubs=0)\n",
    "def spades_high(card):\n",
    "    rank_value = FrenchDeck.ranks.index(card.rank)\n",
    "    return rank_value * len(suit_values) + suit_values[card.suit]"
   ]
  },
  {
   "cell_type": "code",
   "execution_count": null,
   "metadata": {},
   "outputs": [],
   "source": [
    "for card in sorted(deck, key = spades_high):\n",
    "    print(card)"
   ]
  },
  {
   "cell_type": "code",
   "execution_count": 40,
   "metadata": {},
   "outputs": [],
   "source": [
    "class vector:\n",
    "\n",
    "    def __init__(self, *args):\n",
    "        self.values = [*args]\n",
    "\n",
    "    def __add__(self, other):\n",
    "        return [x+y for x, y in zip(self.values, other.values)]\n",
    "\n",
    "    def __abs__(self):\n",
    "        return sum(self * self)**(1/2)\n",
    "\n",
    "    def __bool__(self):\n",
    "        return any(self.values)\n",
    "\n",
    "    def __repr__(self):\n",
    "        return f'vector{tuple(self.values)}'\n",
    "    \n",
    "    def __matmul__(self):\n",
    "        pass\n",
    "\n",
    "    def __mul__(self, other):\n",
    "        return [self.values[ind]*other.values[ind] if isinstance(other, vector) else self.values[ind]*other for ind, _ in enumerate(self.values)]"
   ]
  },
  {
   "cell_type": "code",
   "execution_count": 41,
   "metadata": {},
   "outputs": [],
   "source": [
    "v1 = vector(1,2,3,4,5)\n",
    "v2 = vector(5,4,3,2,1)"
   ]
  },
  {
   "cell_type": "code",
   "execution_count": null,
   "metadata": {},
   "outputs": [],
   "source": [
    "v1+v2\n",
    "v1*v2\n",
    "v2\n",
    "abs(v2)\n",
    "bool(v2)\n",
    "v3 = vector(0, 0, 0, 0, 0)\n",
    "bool(v3)"
   ]
  },
  {
   "cell_type": "code",
   "execution_count": null,
   "metadata": {},
   "outputs": [],
   "source": [
    "colors = ['black','white']\n",
    "sizes = ['small', 'medium', 'large']\n",
    "tshirts = [(color, size) for color in colors for size in sizes]\n",
    "tshirts\n",
    "sylls = 'yuizax'\n",
    "(ord(syl) for syl in sylls)"
   ]
  },
  {
   "cell_type": "code",
   "execution_count": null,
   "metadata": {},
   "outputs": [],
   "source": [
    "lax_coords = (33.9452, -118.408056)\n",
    "tarvId = ('RUS', '12341421')\n",
    "print('%s/%s' % tarvId)\n",
    "hash('str')"
   ]
  },
  {
   "cell_type": "code",
   "execution_count": 33,
   "metadata": {},
   "outputs": [
    {
     "data": {
      "text/plain": [
       "[0, 1, 2, 3, 4, 5]"
      ]
     },
     "execution_count": 33,
     "metadata": {},
     "output_type": "execute_result"
    }
   ],
   "source": [
    "arr = 2\n",
    "tup = ('sr', 'gf')\n",
    "arr * tup\n",
    "a = 12\n",
    "b = 23\n",
    "a, b = b, a\n",
    "b\n",
    "divmod(20, 8)\n",
    "t = 20, 8\n",
    "divmod(*t)\n",
    "quot, rem = divmod(*t)\n",
    "quot\n",
    "a, b, *rest = range(2)\n",
    "rest\n",
    "*first, a = range(6)\n",
    "first\n",
    "def three(a,b, d, *c):\n",
    "    return a, b, d, c\n",
    "three(*[1,2], *[3,4,5])\n",
    "[*range(6)]"
   ]
  },
  {
   "cell_type": "code",
   "execution_count": 34,
   "metadata": {},
   "outputs": [],
   "source": [
    "metro_areas = [\n",
    "('Tokyo', 'JP', 36.933, (35.689722, 139.691667)),\n",
    "('Delhi NCR', 'IN', 21.935, (28.613889, 77.208889)),\n",
    "('Mexico City', 'MX', 20.142, (19.433333, -99.133333)),\n",
    "('New York-Newark', 'US', 20.104, (40.808611, -74.020386)),\n",
    "('São Paulo', 'BR', 19.649, (-23.547778, -46.635833)),\n",
    "]"
   ]
  },
  {
   "cell_type": "code",
   "execution_count": 62,
   "metadata": {},
   "outputs": [
    {
     "name": "stdout",
     "output_type": "stream",
     "text": [
      "                |    latitude |    longtitude\n",
      "Mexico City     |    19.4333  |   -99.1333\n",
      "New York-Newark |    40.8086  |   -74.0204\n",
      "São Paulo       |   -23.5478  |   -46.6358\n"
     ]
    }
   ],
   "source": [
    "print(f'{\"\":15} | {\"latitude\":>11} | {\"longtitude\":>13}')\n",
    "for name, _, _, (lat, lon) in metro_areas:\n",
    "    if lon <= 0:\n",
    "        print(f'{name:15} | {lat:10.4f}  | {lon:10.4f}')"
   ]
  }
 ],
 "metadata": {
  "kernelspec": {
   "display_name": "Python 3",
   "language": "python",
   "name": "python3"
  },
  "language_info": {
   "codemirror_mode": {
    "name": "ipython",
    "version": 3
   },
   "file_extension": ".py",
   "mimetype": "text/x-python",
   "name": "python",
   "nbconvert_exporter": "python",
   "pygments_lexer": "ipython3",
   "version": "3.10.7"
  },
  "orig_nbformat": 4
 },
 "nbformat": 4,
 "nbformat_minor": 2
}
