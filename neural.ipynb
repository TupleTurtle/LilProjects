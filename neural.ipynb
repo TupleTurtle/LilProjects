{
 "cells": [
  {
   "cell_type": "code",
   "execution_count": 126,
   "metadata": {},
   "outputs": [],
   "source": [
    "import numpy as np\n",
    "import pandas as pd\n",
    "import matplotlib.pyplot as plt\n",
    "import scipy.ndimage as ndimage\n",
    "%matplotlib inline"
   ]
  },
  {
   "cell_type": "code",
   "execution_count": 99,
   "metadata": {},
   "outputs": [],
   "source": [
    "class neuralNetwork:\n",
    "    def __init__(self, inputSize, hiddenSize, outputSize, learningRate, weightsIH=False, weightsHO=False):\n",
    "        self.inpSize = inputSize\n",
    "        self.outSize = outputSize\n",
    "        self.hidSize = hiddenSize\n",
    "        self.lr = learningRate\n",
    "\n",
    "        if not weightsIH:\n",
    "            self.weightsIH = np.random.normal(0.0, pow(self.inpSize, -0.5), (self.hidSize, self.inpSize))\n",
    "        else:\n",
    "            self.weightsIH = weightsIH\n",
    "\n",
    "        if not weightsHO:\n",
    "            self.weightsHO = np.random.normal(0.0, pow(self.hidSize, -0.5), (self.outSize, self.hidSize))\n",
    "        else:\n",
    "            self.weightsHO = weightsHO\n",
    "\n",
    "    def train(self, x, y):\n",
    "        x = np.array(x, ndmin=2).T\n",
    "        y = np.array(y, ndmin=2).T\n",
    "        \n",
    "        hiddenOut = self.activation(self.weightsIH @ x)\n",
    "\n",
    "        Output = self.activation(self.weightsHO @ hiddenOut)\n",
    "\n",
    "        errors = y - Output\n",
    "\n",
    "        self.weightsHO = self.weightsHO + self.lr * ((errors * Output * (1 - Output)) @ hiddenOut.T)\n",
    "\n",
    "        hErrors = self.weightsHO.T @ errors\n",
    "\n",
    "        self.weightsIH = self.weightsIH + self.lr * ((hErrors * hiddenOut * (1 - hiddenOut)) @ x.T)\n",
    "\n",
    "\n",
    "\n",
    "    def predict(self, x):\n",
    "        x = np.array(x, ndmin=2).T\n",
    "        return self.activation(self.weightsHO @ self.activation(self.weightsIH @ x))  \n",
    "\n",
    "    def activation(self, z):\n",
    "        return 1/(1+2.718282**-z)\n",
    "    \n",
    "    def invActivation(self, z):\n",
    "        return np.log(z/(1-z))\n",
    "    \n",
    "    def backquery(self, y):\n",
    "        y = np.array(y, ndmin=2).T\n",
    "\n",
    "        outSums = self.invActivation(y)\n",
    "        hidOut = self.weightsHO.T @ outSums\n",
    "        hidOut -= np.min(hidOut)\n",
    "        hidOut /= np.max(hidOut)\n",
    "        hidOut *= 0.98\n",
    "        hidOut += 0.01\n",
    "\n",
    "        hiddenSums = self.invActivation(hidOut)\n",
    "        inp = self.weightsIH.T @ hiddenSums\n",
    "        inp -= np.min(inp)\n",
    "        inp /= np.max(inp)\n",
    "        inp *= 0.98\n",
    "        inp += 0.01\n",
    "\n",
    "        return inp"
   ]
  },
  {
   "cell_type": "code",
   "execution_count": 84,
   "metadata": {},
   "outputs": [],
   "source": [
    "train = pd.read_csv(\"mnist_train.csv\", header=None)\n",
    "test = pd.read_csv(\"mnist_test.csv\", header=None)"
   ]
  },
  {
   "cell_type": "code",
   "execution_count": 85,
   "metadata": {},
   "outputs": [],
   "source": [
    "##train\n",
    "yTrainInit = np.array(train[[0]])\n",
    "\n",
    "xTrain = np.array(train.drop(0, axis=1))/255*0.99+0.01\n",
    "\n",
    "yTrain = np.full((len(yTrainInit), 10), 0.01)\n",
    "for i in range(len(yTrainInit)):\n",
    "    yTrain[i][yTrainInit[i]]=0.99"
   ]
  },
  {
   "cell_type": "code",
   "execution_count": 86,
   "metadata": {},
   "outputs": [],
   "source": [
    "##test\n",
    "yTestInit = np.array(test[[0]])\n",
    "xTest = np.array(test.drop(0, axis=1))/255*0.99+0.01\n",
    "\n",
    "yTest = np.full((len(yTestInit), 10), 0.01)\n",
    "for i in range(len(yTestInit)):\n",
    "    yTest[i][yTestInit[i]]=0.99"
   ]
  },
  {
   "cell_type": "code",
   "execution_count": null,
   "metadata": {},
   "outputs": [],
   "source": [
    "for lr in [0.075, 0.050, 0.025]:\n",
    "    \n",
    "    mnist = neuralNetwork(len(xTrain[0]), 100, 10, lr)\n",
    "    score = []\n",
    "\n",
    "    for i in range(len(yTrainInit)):\n",
    "        mnist.train(xTrain[i], yTrain[i])\n",
    "\n",
    "    for j in range(len(yTestInit)):\n",
    "        prediction = np.argmax(mnist.predict(xTest[j]))\n",
    "        score.append(prediction==yTestInit[j])\n",
    "    \n",
    "    scores.insert(0, np.sum(score)/len(score))\n",
    "    lrates.insert(0, lr)\n",
    "    \n",
    "scores = [0.9294, 0.936, 0.9396, 0.9477, 0.9421, 0.9348, 0.9345, 0.9136, 0.9025, 0.8426]\n",
    "lrates = [0.025, 0.05, 0.075, 0.1, 0.2, 0.25, 0.3, 0.4, 0.5, 0.75]\n"
   ]
  },
  {
   "cell_type": "code",
   "execution_count": null,
   "metadata": {},
   "outputs": [],
   "source": [
    "plt.plot(lrates, scores, linewidth=2)\n",
    "plt.grid()"
   ]
  },
  {
   "cell_type": "code",
   "execution_count": 100,
   "metadata": {},
   "outputs": [],
   "source": [
    "mnist = neuralNetwork(len(xTrain[0]), 200, 10, 0.11)\n",
    "\n",
    "epScores = [0.9436, 0.9559, 0.9533]\n",
    "\n",
    "for epoch in range(1):\n",
    "    score = []\n",
    "    for i in range(len(yTrainInit)):\n",
    "        mnist.train(xTrain[i], yTrain[i])"
   ]
  },
  {
   "cell_type": "code",
   "execution_count": 69,
   "metadata": {},
   "outputs": [],
   "source": [
    "text = open(\"mnistBrains.txt\", 'w')"
   ]
  },
  {
   "cell_type": "code",
   "execution_count": 70,
   "metadata": {},
   "outputs": [],
   "source": [
    "text.write(str(list(mnist.weightsIH)))\n",
    "text.write('end')\n",
    "text.write(str(list(mnist.weightsHO)))\n",
    "\n",
    "text.close()"
   ]
  },
  {
   "cell_type": "code",
   "execution_count": 118,
   "metadata": {},
   "outputs": [
    {
     "data": {
      "text/plain": [
       "<matplotlib.image.AxesImage at 0x7ff7f6a0c0d0>"
      ]
     },
     "execution_count": 118,
     "metadata": {},
     "output_type": "execute_result"
    },
    {
     "data": {
      "image/png": "[encoded data removed]",
      "text/plain": [
       "<Figure size 432x288 with 1 Axes>"
      ]
     },
     "metadata": {
      "needs_background": "light"
     },
     "output_type": "display_data"
    }
   ],
   "source": [
    "plt.imshow(mnist.backquery([0.001,0.001,0.001,0.001,0.001,0.001,0.001,0.999,0.001,0.001]).reshape(28,28), )"
   ]
  },
  {
   "cell_type": "code",
   "execution_count": 148,
   "metadata": {},
   "outputs": [
    {
     "name": "stderr",
     "output_type": "stream",
     "text": [
      "/tmp/ipykernel_13265/3970934699.py:1: DeprecationWarning: Please use `rotate` from the `scipy.ndimage` namespace, the `scipy.ndimage.interpolation` namespace is deprecated.\n",
      "  example = ndimage.interpolation.rotate(xTrain[0].reshape(28,28), 180, reshape=False)\n"
     ]
    },
    {
     "data": {
      "text/plain": [
       "5"
      ]
     },
     "execution_count": 148,
     "metadata": {},
     "output_type": "execute_result"
    },
    {
     "data": {
      "image/png": "[encoded data removed]",
      "text/plain": [
       "<Figure size 432x288 with 1 Axes>"
      ]
     },
     "metadata": {
      "needs_background": "light"
     },
     "output_type": "display_data"
    }
   ],
   "source": [
    "example = ndimage.interpolation.rotate(xTrain[0].reshape(28,28), 180, reshape=False)\n",
    "plt.imshow(example)\n",
    "np.argmax(mnist.predict(example.flatten()))"
   ]
  }
 ],
 "metadata": {
  "kernelspec": {
   "display_name": "Python 3",
   "language": "python",
   "name": "python3"
  },
  "language_info": {
   "codemirror_mode": {
    "name": "ipython",
    "version": 3
   },
   "file_extension": ".py",
   "mimetype": "text/x-python",
   "name": "python",
   "nbconvert_exporter": "python",
   "pygments_lexer": "ipython3",
   "version": "3.10.7"
  },
  "orig_nbformat": 4
 },
 "nbformat": 4,
 "nbformat_minor": 2
}
