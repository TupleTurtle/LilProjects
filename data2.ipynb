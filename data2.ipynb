{
 "cells": [
  {
   "cell_type": "code",
   "execution_count": 1,
   "metadata": {},
   "outputs": [],
   "source": [
    "from collections import defaultdict, Counter\n",
    "import random\n",
    "import re\n",
    "from typing import Dict, Iterable, Tuple, Optional, List, Callable"
   ]
  },
  {
   "cell_type": "code",
   "execution_count": 10,
   "metadata": {},
   "outputs": [],
   "source": [
    "class defaultdicti:\n",
    "    def __init__(self):\n",
    "        self.dictionary = {}\n",
    "\n",
    "    def __getitem__(self, item):\n",
    "        if item in self.dictionary:\n",
    "            return self.dictionary[item]\n",
    "        else:\n",
    "            self.dictionary[item] = 0\n",
    "            return self.dictionary[item]\n",
    "        "
   ]
  },
  {
   "cell_type": "code",
   "execution_count": null,
   "metadata": {},
   "outputs": [],
   "source": [
    "decreasing = [(x,y) for x in range(10) for y in range(0, x)]"
   ]
  },
  {
   "cell_type": "code",
   "execution_count": 27,
   "metadata": {},
   "outputs": [],
   "source": [
    "def smallest(arr):\n",
    "    return min(arr)\n",
    "\n",
    "assert smallest([0,1,2])==0, f'{smallest([0,1,2])} what'"
   ]
  },
  {
   "cell_type": "code",
   "execution_count": 60,
   "metadata": {},
   "outputs": [],
   "source": [
    "class button:\n",
    "    def __init__(self, clicks=0):\n",
    "        self.press = clicks\n",
    "\n",
    "    def __repr__(self):\n",
    "        return f\" pressed {self.press} times\"\n",
    "    \n",
    "    def click(self):\n",
    "        self.press += 1\n",
    "\n",
    "    def reset(self):\n",
    "        self.press = 0\n",
    "        \n",
    "    def read(self):\n",
    "        return self.press"
   ]
  },
  {
   "cell_type": "code",
   "execution_count": 61,
   "metadata": {},
   "outputs": [],
   "source": [
    "buttox = button()"
   ]
  },
  {
   "cell_type": "code",
   "execution_count": null,
   "metadata": {},
   "outputs": [],
   "source": [
    "print((buttox))"
   ]
  },
  {
   "cell_type": "code",
   "execution_count": null,
   "metadata": {},
   "outputs": [],
   "source": [
    "def generateRange(n):\n",
    "    i = 0\n",
    "    while i < n:\n",
    "        yield i\n",
    "        i += 1\n",
    "for i in generateRange(10):\n",
    "    print(i)\n",
    "generateRange"
   ]
  },
  {
   "cell_type": "code",
   "execution_count": null,
   "metadata": {},
   "outputs": [],
   "source": [
    "vals = ['22', '11', 'bob']\n",
    "for i, name in enumerate(vals):\n",
    "    print(i, name)"
   ]
  },
  {
   "cell_type": "code",
   "execution_count": null,
   "metadata": {},
   "outputs": [],
   "source": [
    "random.seed()\n",
    "[random.randrange(0,2) for _ in range(3)]\n",
    "[random.choice(['cool', 'bool']) for _ in range(2)]\n",
    "random.sample([1,2,3,4,5,6,7,8,9], 3)"
   ]
  },
  {
   "cell_type": "code",
   "execution_count": null,
   "metadata": {},
   "outputs": [],
   "source": [
    "re.sub('[0-7]', 'K', '123456789')\n",
    "assert re.match('hot', 'hotdog')\n",
    "assert not re.match('cold', 'hotdog')\n",
    "re.split('[bo]', 'alexbobstop')\n",
    "re.split('bob', 'alexbobstop')"
   ]
  },
  {
   "cell_type": "code",
   "execution_count": null,
   "metadata": {},
   "outputs": [],
   "source": [
    "list1 = ['a','b','c']\n",
    "list2 = ['aar', 'bar', 'car']\n",
    "pairs = zip(list1,list2)\n",
    "poo = [pair for pair in pairs]\n",
    "pairs = zip(list1,list2)\n",
    "list(zip(*pairs))\n"
   ]
  },
  {
   "cell_type": "code",
   "execution_count": null,
   "metadata": {},
   "outputs": [],
   "source": [
    "def doubler(f):\n",
    "    def g(x):\n",
    "        return 2 * f(x)\n",
    "    return g\n",
    "\n",
    "init = lambda x: x**2\n",
    "initDouble = doubler(init)\n",
    "print(init(3), initDouble(3))\n",
    "\n",
    "def doubler(*args, **kwargs):\n",
    "    print(args, kwargs)\n",
    "\n",
    "print(doubler(2, 3, 4, 5, 6, popo='goo'))\n",
    "\n",
    "def corrDoubler(f):\n",
    "    def g(*args):\n",
    "        return 2 * f(*args)\n",
    "    return g\n",
    "\n",
    "f = lambda x, y: x/y + y\n",
    "new = corrDoubler(f)\n",
    "new(2,3)\n",
    "\n",
    "def add(x:int, y:str) -> int:\n",
    "    return x + y.\n",
    "add('s', 'b')"
   ]
  },
  {
   "cell_type": "code",
   "execution_count": null,
   "metadata": {},
   "outputs": [],
   "source": [
    "values: List[int] = []\n",
    "counts = Dict[str, int]\n",
    "def twice(repeater: Callable[[str, int], str], s:str) ->:\n",
    "    return repeater(s, 2)"
   ]
  }
 ],
 "metadata": {
  "kernelspec": {
   "display_name": "Python 3",
   "language": "python",
   "name": "python3"
  },
  "language_info": {
   "codemirror_mode": {
    "name": "ipython",
    "version": 3
   },
   "file_extension": ".py",
   "mimetype": "text/x-python",
   "name": "python",
   "nbconvert_exporter": "python",
   "pygments_lexer": "ipython3",
   "version": "3.10.7"
  },
  "orig_nbformat": 4
 },
 "nbformat": 4,
 "nbformat_minor": 2
}
