{
 "cells": [
  {
   "cell_type": "code",
   "execution_count": 17,
   "metadata": {},
   "outputs": [],
   "source": [
    "import matplotlib.pyplot as plt\n",
    "from collections import Counter"
   ]
  },
  {
   "cell_type": "code",
   "execution_count": null,
   "metadata": {},
   "outputs": [],
   "source": [
    "years = [1950, 1960, 1970, 1980, 1990, 2000, 2010]\n",
    "gdp = [300.2, 543.3, 1075.9, 2862.5, 5979.6, 10289.7, 14958.3]\n",
    "plt.plot(years, gdp, color='red', marker='o', linestyle='solid')\n",
    "plt.title('Номинальный ВВП')\n",
    "plt.ylabel('$')\n",
    "plt.xlabel('Года')\n",
    "plt.show()\n"
   ]
  },
  {
   "cell_type": "code",
   "execution_count": null,
   "metadata": {},
   "outputs": [],
   "source": [
    "movies = [\"Энни Холл\", \"Бен-Гур\", \"Касабланка\", \"Ганди\", \"Вестсайдская история\"]\n",
    "num_oscars = [5, 11, 3, 8, 10]\n",
    "plt.bar(movies, num_oscars)"
   ]
  },
  {
   "cell_type": "code",
   "execution_count": null,
   "metadata": {},
   "outputs": [],
   "source": [
    "grades = [83, 95, 91, 87, 70, 0, 85, 82, 100, 67, 73, 77, 0]\n",
    "grades = [min(90, grade - grade%10) for grade in grades]\n",
    "counts = {count[0] + 5: count[1] for count in Counter(grades).items()}\n",
    "plt.bar(counts.keys(), counts.values(), 10)\n",
    "plt.axis([-10,110,0,5])\n",
    "plt.xticks([10 * i for i in range(11)])\n",
    "plt.show()"
   ]
  },
  {
   "cell_type": "code",
   "execution_count": null,
   "metadata": {},
   "outputs": [],
   "source": [
    "variance = [1, 2, 4, 8, 16, 32, 64, 128, 256]\n",
    "bias_squared = [256, 128, 64, 32, 16, 8, 4, 2, 1]\n",
    "total_error = [x+y for x, y in zip(variance, bias_squared)]\n",
    "xs = [i for i, _ in enumerate(variance)]\n",
    "plt.plot(xs, variance, 'g-', label='Дисперсия')\n",
    "plt.plot(xs, bias_squared, 'r-', label='Смещение 2^2')\n",
    "plt.plot(xs, total_error, 'b-', label='Компромисс')\n",
    "plt.legend(loc=9)\n"
   ]
  },
  {
   "cell_type": "code",
   "execution_count": 55,
   "metadata": {},
   "outputs": [
    {
     "data": {
      "text/plain": [
       "(59.4, 72.6, 99.25, 225.75)"
      ]
     },
     "execution_count": 55,
     "metadata": {},
     "output_type": "execute_result"
    },
    {
     "data": {
      "image/png": "[encoded data removed]",
      "text/plain": [
       "<Figure size 432x288 with 1 Axes>"
      ]
     },
     "metadata": {
      "needs_background": "light"
     },
     "output_type": "display_data"
    }
   ],
   "source": [
    "friends = [ 70, 65, 72, 63, 71, 64, 60, 64, 67]\n",
    "minutes = [175, 170, 205, 120, 220, 130, 105, 145, 190]\n",
    "labels = ['а', 'b', 'с', 'd', 'е', 'f', 'g', 'h', 'i']\n",
    "plt.scatter(friends, minutes)\n",
    "[plt.annotate(lab, xy=(fr, min), xytext = (5, -5), textcoords='offset points')for fr, min, lab in zip(friends, minutes, labels)]\n",
    "plt.axis('equal')\n"
   ]
  }
 ],
 "metadata": {
  "kernelspec": {
   "display_name": "Python 3",
   "language": "python",
   "name": "python3"
  },
  "language_info": {
   "codemirror_mode": {
    "name": "ipython",
    "version": 3
   },
   "file_extension": ".py",
   "mimetype": "text/x-python",
   "name": "python",
   "nbconvert_exporter": "python",
   "pygments_lexer": "ipython3",
   "version": "3.10.7"
  },
  "orig_nbformat": 4
 },
 "nbformat": 4,
 "nbformat_minor": 2
}
